{
 "cells": [
  {
   "cell_type": "markdown",
   "metadata": {
    "colab_type": "text",
    "id": "ZMIiB34CY6t-"
   },
   "source": [
    "# Policy Gradient Methods\n",
    "## Track 3: Policy Gradient with Traces\n",
    "### Rithesh Kumar (260848114)\n",
    "\n",
    "### Overview:\n",
    "* In this work, we implement **Actor Critic with Eligibility Traces**, for the **episodic** setting.\n",
    "* More specifically, we choose the episodic environment as **CartPole-v1**, which runs for a maximum timesteps of 500. The maximum possible reward of this environment is 500, ie, **Maximum Average reward = 500**\n",
    "* We specifically implemented the Actor Critic with Eligibility Traces algorithm from Sutton & Barto, in Page 274.\n",
    "\n",
    "### Model:\n",
    "* To make things easy, we only used **Linear Function Approximation**. Therefore, the Actor has a parameter matrix $\\theta \\in \\mathbb{R}^{d\\ x\\ |A|}$, and the Critic has a parameter vector $w \\in \\mathbb{R}^d$, where $d$ is the dimension of the observation vector, and $|A|$ is the no. of possible actions.\n",
    "\n",
    "### Observations and Learning points:\n",
    "* **Hyperparameter Search** is the single most important thing in RL!!!\n",
    "* It was also very VERY important to note that **setting the same seed** between hyperparameter search experiments was super crucial. This is often overlooked.\n",
    "* With a grid search over the learning rates $\\alpha_\\text{actor}$ and  $\\alpha_\\text{critic}$, we were able to **solve** CartPole-v1 for all the 3 models (Traces on both actor-critic, Trace only on Actor, Trace only on Critic)\n",
    "* The **most interesting result** for us personally, was seeing that Actor Critic with Trace only on Critic (with $\\lambda_\\text{critic} = 0.8$), learns to **solve** the CartPole-v1 environment in **as few as 20 episodes!!** (*Is this a new record?* :p)\n",
    "* While reporting on the effect of gamma (discounting factor), we notice that some gamma values perform more optimally in some cases than others, although the difference in performance wasn't bigger than 40 average reward. We performed these experiments by choosing a value of gamma, and optimizing the step sizes ($\\alpha_\\text{actor}$ and $\\alpha_\\text{critic}$) internally for value of $\\gamma$, and then comparing average reward per episode between the different values of gamma.\n",
    "* We similarly report on the effect of lambda (trace parameter), by taking a limited environment, where we fix $\\lambda_\\text{actor} = 0$ and $\\gamma=0.95$. We vary lambda from 0.1 to 1 as the trace parameter for the critic, and internally optimize the learning rates for each value of lambda. We then plot the average reward per episode for each value of lambda.\n",
    " \n",
    "### Gradient Calculation:\n",
    "$$\\begin{eqnarray*}\n",
    "\\hat{v}(S, w) &=& w^TS \\\\\n",
    "\\therefore \\nabla_w \\hat{v}(S, w) &=& S \\\\\n",
    "\\pi(S, \\theta) &=& \\text{softmax}(\\theta^T S)\\\\\n",
    "\\pi(S, \\theta) &\\in& \\mathbb{R}^{|A|} \\text{  (vector of probabilities for each action )}\\\\\n",
    "\\pi(A_i\\ |\\ S, \\theta) &=& \\text{softmax}(\\theta^T S)_i\\\\\n",
    "\\therefore \\nabla_\\theta \\ln \\pi(A_i\\ |\\ S, \\theta) &=&  \\frac{1}{\\pi(A_i\\ |\\ S, \\theta)} * \\nabla_\\theta \\pi(A_i\\ |\\ S, \\theta)\\\\\n",
    "\\text{Let, } \\text{Softmax}(\\theta^TS) &\\triangleq& S(x) \\text{ where } x = \\theta^TS\\\\\n",
    "\\therefore \\nabla_\\theta \\ln \\pi(A_i\\ |\\ S, \\theta) &=&  \\frac{1}{S(x)_i} * \\nabla_x S(x)_i * \\nabla_\\theta x\\\\\n",
    "\\text{We know that derivative of softmax function $S(x)_i$ with respect to the input $x$ is },\\\\\n",
    "\\nabla_x S(x)_i &=& S(x)_i (\\delta_{ij} - S(x))\\\\\n",
    "\\therefore \\nabla_\\theta \\ln \\pi(A_i\\ |\\ S, \\theta) &=&  \\frac{1}{S(x)_i} * S(x)_i (\\delta_{ij} - S(x)) * \\nabla_\\theta \\theta^T S\\\\\n",
    "&=& S [\\delta_{ij} - \\text{Softmax}(\\theta^TS)]^T \\text{ (where, $\\delta_{ij}$ is the kronecker-delta function)}\n",
    "\\end{eqnarray*}$$"
   ]
  },
  {
   "cell_type": "code",
   "execution_count": 1,
   "metadata": {
    "colab": {
     "autoexec": {
      "startup": false,
      "wait_interval": 0
     },
     "base_uri": "https://localhost:8080/",
     "height": 442,
     "output_extras": [
      {
       "item_id": 15
      }
     ]
    },
    "colab_type": "code",
    "executionInfo": {
     "elapsed": 8384,
     "status": "ok",
     "timestamp": 1522202802993,
     "user": {
      "displayName": "Rithesh Kumar",
      "photoUrl": "//lh5.googleusercontent.com/-VGc2wPhGPi4/AAAAAAAAAAI/AAAAAAAAB6I/vpltgbrdB3w/s50-c-k-no/photo.jpg",
      "userId": "103541296802299572143"
     },
     "user_tz": 240
    },
    "id": "vx8IIO4I7Ywr",
    "outputId": "2e898d99-e915-428b-9f98-063885aef60e"
   },
   "outputs": [
    {
     "name": "stdout",
     "output_type": "stream",
     "text": [
      "Collecting gym\n",
      "  Downloading gym-0.10.4.tar.gz (1.5MB)\n",
      "\u001b[K    100% |████████████████████████████████| 1.5MB 716kB/s \n",
      "\u001b[?25hRequirement already satisfied: numpy>=1.10.4 in /usr/local/lib/python2.7/dist-packages (from gym)\n",
      "Collecting pyglet>=1.2.0 (from gym)\n",
      "  Downloading pyglet-1.3.1-py2.py3-none-any.whl (1.0MB)\n",
      "\u001b[K    100% |████████████████████████████████| 1.0MB 975kB/s \n",
      "\u001b[?25hRequirement already satisfied: requests>=2.0 in /usr/local/lib/python2.7/dist-packages (from gym)\n",
      "Requirement already satisfied: six in /usr/local/lib/python2.7/dist-packages (from gym)\n",
      "Requirement already satisfied: future in /usr/local/lib/python2.7/dist-packages (from pyglet>=1.2.0->gym)\n",
      "Requirement already satisfied: idna<2.7,>=2.5 in /usr/local/lib/python2.7/dist-packages (from requests>=2.0->gym)\n",
      "Requirement already satisfied: urllib3<1.23,>=1.21.1 in /usr/local/lib/python2.7/dist-packages (from requests>=2.0->gym)\n",
      "Requirement already satisfied: certifi>=2017.4.17 in /usr/local/lib/python2.7/dist-packages (from requests>=2.0->gym)\n",
      "Requirement already satisfied: chardet<3.1.0,>=3.0.2 in /usr/local/lib/python2.7/dist-packages (from requests>=2.0->gym)\n",
      "Building wheels for collected packages: gym\n",
      "  Running setup.py bdist_wheel for gym ... \u001b[?25l-\b \b\\\b \b|\b \b/\b \bdone\n",
      "\u001b[?25h  Stored in directory: /content/.cache/pip/wheels/55/10/54/738634b5a554fc825283685db35371481d66137018ad2c9365\n",
      "Successfully built gym\n",
      "Installing collected packages: pyglet, gym\n",
      "Successfully installed gym-0.10.4 pyglet-1.3.1\n",
      "Collecting tqdm\n",
      "  Downloading tqdm-4.19.9-py2.py3-none-any.whl (52kB)\n",
      "\u001b[K    100% |████████████████████████████████| 61kB 4.4MB/s \n",
      "\u001b[?25hInstalling collected packages: tqdm\n",
      "Successfully installed tqdm-4.19.9\n"
     ]
    }
   ],
   "source": [
    "!pip install gym\n",
    "!pip install tqdm"
   ]
  },
  {
   "cell_type": "code",
   "execution_count": 1,
   "metadata": {
    "colab": {
     "autoexec": {
      "startup": false,
      "wait_interval": 0
     }
    },
    "colab_type": "code",
    "collapsed": true,
    "id": "XEk9gHx37dZk"
   },
   "outputs": [],
   "source": [
    "import gym\n",
    "from tqdm import tqdm\n",
    "import imageio\n",
    "import numpy as np\n",
    "from copy import copy\n",
    "import matplotlib\n",
    "%matplotlib inline\n",
    "import matplotlib.pyplot as plt\n",
    "\n",
    "def softmax(x):\n",
    "    e_x = np.exp(x - np.max(x, axis=-1, keepdims=True))\n",
    "    return e_x / e_x.sum(-1, keepdims=True)"
   ]
  },
  {
   "cell_type": "markdown",
   "metadata": {
    "colab_type": "text",
    "id": "gJR-XH5jqJjd"
   },
   "source": [
    "### 1. Defining the Actor Critic class with Linear Function Approximation"
   ]
  },
  {
   "cell_type": "code",
   "execution_count": 2,
   "metadata": {
    "colab": {
     "autoexec": {
      "startup": false,
      "wait_interval": 0
     }
    },
    "colab_type": "code",
    "collapsed": true,
    "id": "hJpO8XsJ7jB7"
   },
   "outputs": [],
   "source": [
    "class ActorCritic(object):\n",
    "    def __init__(self, args):\n",
    "        self.n_actions = args['n_actions']\n",
    "        self.state_dim = args['state_dim']\n",
    "\n",
    "        self.gamma = args['gamma']\n",
    "        self.lambda_actor = args['lambda_actor']\n",
    "        self.lambda_critic = args['lambda_critic']\n",
    "\n",
    "        self.alpha_actor = args['step_size_actor']\n",
    "        self.alpha_critic = args['step_size_critic']\n",
    "\n",
    "        self.actor_param = np.zeros((self.state_dim, self.n_actions)).astype('float32')\n",
    "        self.critic_param = np.zeros(self.state_dim).astype('float32')\n",
    "\n",
    "    def reset_trace(self):\n",
    "        self.trace_actor = np.zeros_like(self.actor_param)\n",
    "        self.trace_critic = np.zeros_like(self.critic_param)\n",
    "        self.I = 1.\n",
    "        \n",
    "    def get_action(self, x):\n",
    "        return softmax(np.matmul(self.actor_param.T, x))\n",
    "      \n",
    "    def get_value(self, x):\n",
    "        return np.matmul(self.critic_param, x)\n",
    "    \n",
    "    def update_values(self, s, a, r, s_prime, nt):\n",
    "        delta = r + self.gamma * nt * self.get_value(s_prime) - self.get_value(s)\n",
    "\n",
    "        t = np.zeros(self.n_actions, dtype='float32')\n",
    "        t[a] = 1.\n",
    "\n",
    "        pi_s = self.get_action(s)\n",
    "        delta_v = s\n",
    "        delta_log_pi = np.matmul(s[:, None], (t - pi_s)[None])\n",
    "   \n",
    "        self.trace_critic = self.gamma * self.trace_critic * self.lambda_critic + self.I * delta_v\n",
    "        self.trace_actor = self.gamma * self.trace_actor * self.lambda_actor + self.I * delta_log_pi\n",
    "      \n",
    "        self.critic_param += self.alpha_critic * delta * self.trace_critic\n",
    "        self.actor_param += self.alpha_actor * delta * self.trace_actor\n",
    "        self.I = self.gamma * self.I\n"
   ]
  },
  {
   "cell_type": "markdown",
   "metadata": {
    "colab_type": "text",
    "id": "47PunpjGqSZ1"
   },
   "source": [
    "### 2. Defining the boiler-plate iterator over environment"
   ]
  },
  {
   "cell_type": "code",
   "execution_count": 3,
   "metadata": {
    "colab": {
     "autoexec": {
      "startup": false,
      "wait_interval": 0
     }
    },
    "colab_type": "code",
    "collapsed": true,
    "id": "YsLJsxroHG1H"
   },
   "outputs": [],
   "source": [
    "def play_game(env, args, model, update=False, tot_episodes=5000, store_gif=False):\n",
    "    rewards = []\n",
    "    avg_reward = 0\n",
    "    n_episodes = 0\n",
    "\n",
    "    # Set Seeds\n",
    "    np.random.seed(111)\n",
    "    env.seed(111)\n",
    "\n",
    "    s = env.reset()\n",
    "    model.reset_trace()\n",
    "    frames = []\n",
    "    while n_episodes < tot_episodes:\n",
    "        probs = model.get_action(s)\n",
    "        \n",
    "        if store_gif:\n",
    "            frames.append(\n",
    "                env.render(mode='rgb_array')\n",
    "            )\n",
    "\n",
    "        one_hot_a = np.random.multinomial(1, probs, 1)\n",
    "        a = one_hot_a.argmax()\n",
    "\n",
    "        s_prime, r, term, _ = env.step(a)\n",
    "        avg_reward += r\n",
    "        \n",
    "        if update:\n",
    "            model.update_values(s, a, r, s_prime, float(term==False))\n",
    "        \n",
    "        if term:\n",
    "            s = env.reset()\n",
    "            model.reset_trace()\n",
    "            rewards.append(avg_reward)\n",
    "            avg_reward = 0\n",
    "            n_episodes += 1\n",
    "        else:\n",
    "            s = s_prime\n",
    "\n",
    "    if store_gif:\n",
    "        imageio.mimwrite('cartpole.gif', frames, fps=50)\n",
    "    return rewards, np.mean(rewards)\n"
   ]
  },
  {
   "cell_type": "markdown",
   "metadata": {
    "colab_type": "text",
    "id": "1ssmhdKXqY6U"
   },
   "source": [
    "### 3. Solving CartPole-v1 with Actor Critic\n",
    "#### (Traces used on both Actor and Critic with $\\lambda_{\\text{actor}}=\\lambda_{\\text{critic}}=0.8$)"
   ]
  },
  {
   "cell_type": "code",
   "execution_count": 40,
   "metadata": {
    "colab": {
     "autoexec": {
      "startup": false,
      "wait_interval": 0
     },
     "base_uri": "https://localhost:8080/",
     "height": 128,
     "output_extras": [
      {
       "item_id": 1
      },
      {
       "item_id": 2
      }
     ]
    },
    "colab_type": "code",
    "executionInfo": {
     "elapsed": 845659,
     "status": "ok",
     "timestamp": 1521996230381,
     "user": {
      "displayName": "Rithesh Kumar",
      "photoUrl": "//lh5.googleusercontent.com/-VGc2wPhGPi4/AAAAAAAAAAI/AAAAAAAAB6I/vpltgbrdB3w/s50-c-k-no/photo.jpg",
      "userId": "103541296802299572143"
     },
     "user_tz": 240
    },
    "id": "sekF_E8NGenU",
    "outputId": "c599b919-90f4-47d8-cf3c-e9fcb38eed4e"
   },
   "outputs": [
    {
     "name": "stdout",
     "output_type": "stream",
     "text": [
      "\u001b[33mWARN: gym.spaces.Box autodetected dtype as <type 'numpy.float32'>. Please provide explicit dtype.\u001b[0m\n",
      "No. of actions =  2\n",
      "State space =  4\n",
      "Starting hyperparameter search...\n"
     ]
    },
    {
     "name": "stderr",
     "output_type": "stream",
     "text": [
      "/usr/local/lib/python2.7/dist-packages/ipykernel_launcher.py:40: RuntimeWarning: overflow encountered in add\n",
      "/usr/local/lib/python2.7/dist-packages/ipykernel_launcher.py:28: RuntimeWarning: invalid value encountered in double_scalars\n"
     ]
    }
   ],
   "source": [
    "env = gym.make('CartPole-v1')\n",
    "args = {\n",
    "    'n_actions': env.action_space.n,\n",
    "    'state_dim': env.observation_space.shape[0],\n",
    "    'gamma': .95,\n",
    "    'lambda_actor': .8,\n",
    "    'lambda_critic': .8\n",
    "}\n",
    "\n",
    "print \"No. of actions = \", args['n_actions']\n",
    "print \"State space = \", args['state_dim']\n",
    "\n",
    "print \"Starting hyperparameter search...\"\n",
    "configs = []\n",
    "for step_size1 in np.arange(0.05, 1.05, .05):\n",
    "  for step_size2 in np.arange(0.05, 1.05, .05):\n",
    "      args['step_size_actor'] = step_size1\n",
    "      args['step_size_critic'] = step_size2\n",
    "      model = ActorCritic(args)\n",
    "      play_game(env, args, model, update=True, tot_episodes=200)\n",
    "      _, avg_reward = play_game(env, args, model, update=False, tot_episodes=100)\n",
    "      configs.append((step_size1, step_size2, avg_reward))\n",
    "#       print \"Step sizes: {} Avg. Reward: {}\".format((step_size1, step_size2), avg_reward)"
   ]
  },
  {
   "cell_type": "markdown",
   "metadata": {
    "colab_type": "text",
    "id": "PDC4pVdWtZ7m"
   },
   "source": [
    "### 3.i) Result of Hyperparameter search\n",
    "#### Printing (step_size_actor, step_size_critic, avg_reward_per_episode)"
   ]
  },
  {
   "cell_type": "code",
   "execution_count": 41,
   "metadata": {
    "colab": {
     "autoexec": {
      "startup": false,
      "wait_interval": 0
     },
     "base_uri": "https://localhost:8080/",
     "height": 202,
     "output_extras": [
      {
       "item_id": 1
      }
     ]
    },
    "colab_type": "code",
    "executionInfo": {
     "elapsed": 236,
     "status": "ok",
     "timestamp": 1521996230648,
     "user": {
      "displayName": "Rithesh Kumar",
      "photoUrl": "//lh5.googleusercontent.com/-VGc2wPhGPi4/AAAAAAAAAAI/AAAAAAAAB6I/vpltgbrdB3w/s50-c-k-no/photo.jpg",
      "userId": "103541296802299572143"
     },
     "user_tz": 240
    },
    "id": "uTloR69DpQ-w",
    "outputId": "aaa0c634-afd6-4936-86d1-a632c436821b"
   },
   "outputs": [
    {
     "data": {
      "text/plain": [
       "[(0.8, 0.5, 500.0),\n",
       " (0.9000000000000001, 0.7000000000000001, 484.37),\n",
       " (0.9000000000000001, 0.9500000000000001, 456.45),\n",
       " (0.8500000000000001, 0.6000000000000001, 378.09),\n",
       " (0.35000000000000003, 0.55, 369.56),\n",
       " (0.7000000000000001, 0.2, 359.97),\n",
       " (0.4, 0.35000000000000003, 303.57),\n",
       " (1.0, 1.0, 301.17),\n",
       " (0.4, 1.0, 300.73),\n",
       " (0.7500000000000001, 0.5, 290.98)]"
      ]
     },
     "execution_count": 41,
     "metadata": {
      "tags": []
     },
     "output_type": "execute_result"
    }
   ],
   "source": [
    "sorted(configs, key=lambda tup: tup[-1], reverse=True)[:10]"
   ]
  },
  {
   "cell_type": "markdown",
   "metadata": {
    "colab_type": "text",
    "id": "721NMeFruUvf"
   },
   "source": [
    "### 3.ii) Plotting results of best Actor Critic model (Trace on both Actor, Critic)\n",
    "#### Hyperparameters:\n",
    "* Gamma = 0.95\n",
    "* $\\alpha_{\\text{actor}}$ = 0.8\n",
    "* $\\alpha_{\\text{critic}}$ = 0.5\n",
    "* $\\lambda_{\\text{actor}}$ = 0.8\n",
    "* $\\lambda_{\\text{critic}}$ = 0.8"
   ]
  },
  {
   "cell_type": "code",
   "execution_count": 14,
   "metadata": {
    "colab": {
     "autoexec": {
      "startup": false,
      "wait_interval": 0
     },
     "base_uri": "https://localhost:8080/",
     "height": 313,
     "output_extras": [
      {
       "item_id": 1
      },
      {
       "item_id": 2
      }
     ]
    },
    "colab_type": "code",
    "executionInfo": {
     "elapsed": 4120,
     "status": "ok",
     "timestamp": 1522175183238,
     "user": {
      "displayName": "Rithesh Kumar",
      "photoUrl": "//lh5.googleusercontent.com/-VGc2wPhGPi4/AAAAAAAAAAI/AAAAAAAAB6I/vpltgbrdB3w/s50-c-k-no/photo.jpg",
      "userId": "103541296802299572143"
     },
     "user_tz": 240
    },
    "id": "UsdLZMrZG7Nm",
    "outputId": "64948ecb-fe10-462c-d066-a739ccc3b1d8"
   },
   "outputs": [
    {
     "name": "stdout",
     "output_type": "stream",
     "text": [
      "Average reward using Actor Critic with Traces:  500.0\n",
      "Plotting reward...\n"
     ]
    },
    {
     "data": {
      "image/png": "[encoded data removed]",
      "text/plain": [
       "<matplotlib.figure.Figure at 0x7f191336cb50>"
      ]
     },
     "metadata": {
      "tags": []
     },
     "output_type": "display_data"
    }
   ],
   "source": [
    "args = {\n",
    "    'n_actions': env.action_space.n,\n",
    "    'state_dim': env.observation_space.shape[0],\n",
    "    'gamma': .95,\n",
    "    'step_size_actor': .8,\n",
    "    'step_size_critic': .5,\n",
    "    'lambda_actor': .8,\n",
    "    'lambda_critic': .8\n",
    "}\n",
    "model = ActorCritic(args)\n",
    "rewards_train, _ = play_game(env, args, model, update=True, tot_episodes=200)\n",
    "rewards_test, avg_reward = play_game(env, args, model, update=False, tot_episodes=100)\n",
    "print \"Average reward using Actor Critic with Traces: \", avg_reward\n",
    "print \"Plotting reward...\"\n",
    "plt.plot(rewards_train + rewards_test)\n",
    "plt.xlabel(\"Episodes\")\n",
    "_ = plt.ylabel(\"Total Reward per episode\")"
   ]
  },
  {
   "cell_type": "markdown",
   "metadata": {
    "colab_type": "text",
    "id": "CVg6loX0u0BM"
   },
   "source": [
    "### 4. Solving CartPole-v1 with Actor Critic\n",
    "#### (Trace used only on actor $\\lambda_{\\text{actor}}=0.8,\\ \\ \\lambda_{\\text{critic}}=0.0$)"
   ]
  },
  {
   "cell_type": "code",
   "execution_count": 43,
   "metadata": {
    "colab": {
     "autoexec": {
      "startup": false,
      "wait_interval": 0
     },
     "base_uri": "https://localhost:8080/",
     "height": 146,
     "output_extras": [
      {
       "item_id": 1
      },
      {
       "item_id": 3
      }
     ]
    },
    "colab_type": "code",
    "executionInfo": {
     "elapsed": 832575,
     "status": "ok",
     "timestamp": 1521997066457,
     "user": {
      "displayName": "Rithesh Kumar",
      "photoUrl": "//lh5.googleusercontent.com/-VGc2wPhGPi4/AAAAAAAAAAI/AAAAAAAAB6I/vpltgbrdB3w/s50-c-k-no/photo.jpg",
      "userId": "103541296802299572143"
     },
     "user_tz": 240
    },
    "id": "9cvJkcUheKDe",
    "outputId": "11d543f0-13c7-44fe-9197-8d39073aecb9"
   },
   "outputs": [
    {
     "name": "stdout",
     "output_type": "stream",
     "text": [
      "No. of actions =  2\n",
      "State space =  4\n",
      "Starting hyperparameter search...\n"
     ]
    },
    {
     "name": "stderr",
     "output_type": "stream",
     "text": [
      "/usr/local/lib/python2.7/dist-packages/ipykernel_launcher.py:40: RuntimeWarning: overflow encountered in add\n",
      "/usr/local/lib/python2.7/dist-packages/ipykernel_launcher.py:28: RuntimeWarning: invalid value encountered in double_scalars\n",
      "/usr/local/lib/python2.7/dist-packages/ipykernel_launcher.py:40: RuntimeWarning: invalid value encountered in add\n",
      "/usr/local/lib/python2.7/dist-packages/ipykernel_launcher.py:41: RuntimeWarning: invalid value encountered in multiply\n"
     ]
    }
   ],
   "source": [
    "args = {\n",
    "    'n_actions': env.action_space.n,\n",
    "    'state_dim': env.observation_space.shape[0],\n",
    "    'gamma': .95,\n",
    "    'lambda_actor': .8,\n",
    "    'lambda_critic': 0\n",
    "}\n",
    "\n",
    "print \"No. of actions = \", args['n_actions']\n",
    "print \"State space = \", args['state_dim']\n",
    "\n",
    "print \"Starting hyperparameter search...\"\n",
    "configs = []\n",
    "for step_size1 in np.arange(0.05, 1.05, .05):\n",
    "  for step_size2 in np.arange(0.05, 1.05, .05):\n",
    "      args['step_size_actor'] = step_size1\n",
    "      args['step_size_critic'] = step_size2\n",
    "      model = ActorCritic(args)\n",
    "      play_game(env, args, model, update=True, tot_episodes=200)\n",
    "      _, avg_reward = play_game(env, args, model, update=False, tot_episodes=100)\n",
    "      configs.append((step_size1, step_size2, avg_reward))\n",
    "#       print \"Step sizes: {} Avg. Reward: {}\".format((step_size1, step_size2), avg_reward)"
   ]
  },
  {
   "cell_type": "markdown",
   "metadata": {
    "colab_type": "text",
    "id": "Vr20NaLEvlhm"
   },
   "source": [
    "### 4.i) Result of Hyperparameter search\n",
    "#### Printing (step_size_actor, step_size_critic, avg_reward_per_episode)"
   ]
  },
  {
   "cell_type": "code",
   "execution_count": 44,
   "metadata": {
    "colab": {
     "autoexec": {
      "startup": false,
      "wait_interval": 0
     },
     "base_uri": "https://localhost:8080/",
     "height": 202,
     "output_extras": [
      {
       "item_id": 1
      }
     ]
    },
    "colab_type": "code",
    "executionInfo": {
     "elapsed": 235,
     "status": "ok",
     "timestamp": 1521997066710,
     "user": {
      "displayName": "Rithesh Kumar",
      "photoUrl": "//lh5.googleusercontent.com/-VGc2wPhGPi4/AAAAAAAAAAI/AAAAAAAAB6I/vpltgbrdB3w/s50-c-k-no/photo.jpg",
      "userId": "103541296802299572143"
     },
     "user_tz": 240
    },
    "id": "2oXDgXzrvh0U",
    "outputId": "8f925af7-0838-4f17-c7cc-3160a5ffd8fc"
   },
   "outputs": [
    {
     "data": {
      "text/plain": [
       "[(0.8, 0.1, 497.85),\n",
       " (0.9500000000000001, 0.7000000000000001, 417.42),\n",
       " (0.7000000000000001, 0.8, 396.0),\n",
       " (0.35000000000000003, 0.9000000000000001, 382.43),\n",
       " (0.8500000000000001, 0.2, 376.44),\n",
       " (0.9000000000000001, 0.9500000000000001, 347.08),\n",
       " (0.6000000000000001, 0.35000000000000003, 325.04),\n",
       " (0.4, 0.25, 323.81),\n",
       " (0.7500000000000001, 0.1, 320.97),\n",
       " (0.6500000000000001, 0.3, 316.31)]"
      ]
     },
     "execution_count": 44,
     "metadata": {
      "tags": []
     },
     "output_type": "execute_result"
    }
   ],
   "source": [
    "sorted(configs, key=lambda tup: tup[-1], reverse=True)[:10]"
   ]
  },
  {
   "cell_type": "markdown",
   "metadata": {
    "colab_type": "text",
    "id": "wJSamqrcvrbB"
   },
   "source": [
    "### 4.ii) Plotting results of best Actor Critic model (Trace only on Actor)\n",
    "#### Hyperparameters:\n",
    "* Gamma = 0.95\n",
    "* $\\alpha_{\\text{actor}}$ = 0.8\n",
    "* $\\alpha_{\\text{critic}}$ = 0.1\n",
    "* $\\lambda_{\\text{actor}}$ = 0.8\n",
    "* $\\lambda_{\\text{critic}}$ = 0.0"
   ]
  },
  {
   "cell_type": "code",
   "execution_count": 50,
   "metadata": {
    "colab": {
     "autoexec": {
      "startup": false,
      "wait_interval": 0
     },
     "base_uri": "https://localhost:8080/",
     "height": 317,
     "output_extras": [
      {
       "item_id": 1
      },
      {
       "item_id": 2
      }
     ]
    },
    "colab_type": "code",
    "executionInfo": {
     "elapsed": 4860,
     "status": "ok",
     "timestamp": 1522004318853,
     "user": {
      "displayName": "Rithesh Kumar",
      "photoUrl": "//lh5.googleusercontent.com/-VGc2wPhGPi4/AAAAAAAAAAI/AAAAAAAAB6I/vpltgbrdB3w/s50-c-k-no/photo.jpg",
      "userId": "103541296802299572143"
     },
     "user_tz": 240
    },
    "id": "CRTisxkyvq9B",
    "outputId": "bbc4a6ae-23d5-4e4b-82c6-ea6e3a97ba0a"
   },
   "outputs": [
    {
     "name": "stdout",
     "output_type": "stream",
     "text": [
      "Average reward using Actor Critic with Traces:  497.85\n",
      "Plotting reward...\n"
     ]
    },
    {
     "data": {
      "image/png": "[encoded data removed]",
      "text/plain": [
       "<matplotlib.figure.Figure at 0x7f37f53d5450>"
      ]
     },
     "metadata": {
      "tags": []
     },
     "output_type": "display_data"
    }
   ],
   "source": [
    "args = {\n",
    "    'n_actions': env.action_space.n,\n",
    "    'state_dim': env.observation_space.shape[0],\n",
    "    'gamma': .95,\n",
    "    'step_size_actor': .8,\n",
    "    'step_size_critic': .1,\n",
    "    'lambda_actor': .8,\n",
    "    'lambda_critic': 0\n",
    "}\n",
    "model = ActorCritic(args)\n",
    "rewards_train, _ = play_game(env, args, model, update=True, tot_episodes=200)\n",
    "rewards_test, avg_reward = play_game(env, args, model, update=False, tot_episodes=100)\n",
    "print \"Average reward using Actor Critic with Traces: \", avg_reward\n",
    "print \"Plotting reward...\"\n",
    "plt.plot(rewards_train + rewards_test)\n",
    "plt.xlabel(\"Episodes\")\n",
    "_ = plt.ylabel(\"Total Reward per episode\")"
   ]
  },
  {
   "cell_type": "markdown",
   "metadata": {
    "colab_type": "text",
    "id": "DP5f-66f2fm2"
   },
   "source": [
    "### 5. Solving CartPole-v1 with Actor Critic\n",
    "#### (Trace used only on actor $\\lambda_{\\text{actor}}=0.0,\\ \\ \\lambda_{\\text{critic}}=0.8$)"
   ]
  },
  {
   "cell_type": "code",
   "execution_count": 46,
   "metadata": {
    "colab": {
     "autoexec": {
      "startup": false,
      "wait_interval": 0
     },
     "base_uri": "https://localhost:8080/",
     "height": 146,
     "output_extras": [
      {
       "item_id": 1
      },
      {
       "item_id": 3
      }
     ]
    },
    "colab_type": "code",
    "executionInfo": {
     "elapsed": 504390,
     "status": "ok",
     "timestamp": 1521997574681,
     "user": {
      "displayName": "Rithesh Kumar",
      "photoUrl": "//lh5.googleusercontent.com/-VGc2wPhGPi4/AAAAAAAAAAI/AAAAAAAAB6I/vpltgbrdB3w/s50-c-k-no/photo.jpg",
      "userId": "103541296802299572143"
     },
     "user_tz": 240
    },
    "id": "QgIIPbKo2X-a",
    "outputId": "53843423-ca06-4008-d06e-8b39b02f2906"
   },
   "outputs": [
    {
     "name": "stdout",
     "output_type": "stream",
     "text": [
      "No. of actions =  2\n",
      "State space =  4\n",
      "Starting hyperparameter search...\n"
     ]
    },
    {
     "name": "stderr",
     "output_type": "stream",
     "text": [
      "/usr/local/lib/python2.7/dist-packages/ipykernel_launcher.py:40: RuntimeWarning: overflow encountered in add\n",
      "/usr/local/lib/python2.7/dist-packages/ipykernel_launcher.py:28: RuntimeWarning: invalid value encountered in double_scalars\n",
      "/usr/local/lib/python2.7/dist-packages/ipykernel_launcher.py:40: RuntimeWarning: invalid value encountered in add\n",
      "/usr/local/lib/python2.7/dist-packages/ipykernel_launcher.py:41: RuntimeWarning: invalid value encountered in multiply\n"
     ]
    }
   ],
   "source": [
    "args = {\n",
    "    'n_actions': env.action_space.n,\n",
    "    'state_dim': env.observation_space.shape[0],\n",
    "    'gamma': .95,\n",
    "    'lambda_actor': 0.0,\n",
    "    'lambda_critic': 0.8\n",
    "}\n",
    "\n",
    "print \"No. of actions = \", args['n_actions']\n",
    "print \"State space = \", args['state_dim']\n",
    "\n",
    "print \"Starting hyperparameter search...\"\n",
    "configs = []\n",
    "for step_size1 in np.arange(0.05, 1.05, .05):\n",
    "  for step_size2 in np.arange(0.05, 1.05, .05):\n",
    "      args['step_size_actor'] = step_size1\n",
    "      args['step_size_critic'] = step_size2\n",
    "      model = ActorCritic(args)\n",
    "      play_game(env, args, model, update=True, tot_episodes=200)\n",
    "      _, avg_reward = play_game(env, args, model, update=False, tot_episodes=100)\n",
    "      configs.append((step_size1, step_size2, avg_reward))\n",
    "#       print \"Step sizes: {} Avg. Reward: {}\".format((step_size1, step_size2), avg_reward)"
   ]
  },
  {
   "cell_type": "markdown",
   "metadata": {
    "colab_type": "text",
    "id": "oT-CqPkh2tDQ"
   },
   "source": [
    "### 5.i) Result of Hyperparameter search\n",
    "#### Printing (step_size_actor, step_size_critic, avg_reward_per_episode)"
   ]
  },
  {
   "cell_type": "code",
   "execution_count": 47,
   "metadata": {
    "colab": {
     "autoexec": {
      "startup": false,
      "wait_interval": 0
     },
     "base_uri": "https://localhost:8080/",
     "height": 202,
     "output_extras": [
      {
       "item_id": 1
      }
     ]
    },
    "colab_type": "code",
    "executionInfo": {
     "elapsed": 228,
     "status": "ok",
     "timestamp": 1521997574936,
     "user": {
      "displayName": "Rithesh Kumar",
      "photoUrl": "//lh5.googleusercontent.com/-VGc2wPhGPi4/AAAAAAAAAAI/AAAAAAAAB6I/vpltgbrdB3w/s50-c-k-no/photo.jpg",
      "userId": "103541296802299572143"
     },
     "user_tz": 240
    },
    "id": "cFOonNoc2qpG",
    "outputId": "f121303f-a24e-4547-cb7a-ba2e25bd4183"
   },
   "outputs": [
    {
     "data": {
      "text/plain": [
       "[(0.05, 0.3, 500.0),\n",
       " (0.05, 0.15000000000000002, 495.82),\n",
       " (0.8, 0.15000000000000002, 331.76),\n",
       " (0.3, 0.25, 329.45),\n",
       " (0.8500000000000001, 0.3, 281.55),\n",
       " (0.8, 0.7500000000000001, 273.34),\n",
       " (0.45, 0.6500000000000001, 268.28),\n",
       " (0.9500000000000001, 0.6500000000000001, 258.45),\n",
       " (0.6000000000000001, 0.4, 253.57),\n",
       " (0.45, 0.55, 243.8)]"
      ]
     },
     "execution_count": 47,
     "metadata": {
      "tags": []
     },
     "output_type": "execute_result"
    }
   ],
   "source": [
    "sorted(configs, key=lambda tup: tup[-1], reverse=True)[:10]"
   ]
  },
  {
   "cell_type": "markdown",
   "metadata": {
    "colab_type": "text",
    "id": "yp74XNyU5BVG"
   },
   "source": [
    "### 5.ii) Plotting results of best Actor Critic model (Trace only on Critic)\n",
    "#### Hyperparameters:\n",
    "* Gamma = 0.95\n",
    "* $\\alpha_{\\text{actor}}$ = 0.05\n",
    "* $\\alpha_{\\text{critic}}$ = 0.3\n",
    "* $\\lambda_{\\text{actor}}$ = 0.0\n",
    "* $\\lambda_{\\text{critic}}$ = 0.8"
   ]
  },
  {
   "cell_type": "code",
   "execution_count": 5,
   "metadata": {
    "colab": {
     "autoexec": {
      "startup": false,
      "wait_interval": 0
     },
     "base_uri": "https://localhost:8080/",
     "height": 317,
     "output_extras": [
      {
       "item_id": 1
      },
      {
       "item_id": 2
      }
     ]
    },
    "colab_type": "code",
    "executionInfo": {
     "elapsed": 10915,
     "status": "ok",
     "timestamp": 1522004345173,
     "user": {
      "displayName": "Rithesh Kumar",
      "photoUrl": "//lh5.googleusercontent.com/-VGc2wPhGPi4/AAAAAAAAAAI/AAAAAAAAB6I/vpltgbrdB3w/s50-c-k-no/photo.jpg",
      "userId": "103541296802299572143"
     },
     "user_tz": 240
    },
    "id": "ZHLZgNtC2sZ_",
    "outputId": "3516eec1-e159-41b7-a371-a3f89016b2d3"
   },
   "outputs": [
    {
     "name": "stdout",
     "output_type": "stream",
     "text": [
      "Average reward using Actor Critic with Traces:  500.0\n",
      "Plotting reward...\n"
     ]
    },
    {
     "data": {
      "image/png": "[encoded data removed]",
      "text/plain": [
       "<matplotlib.figure.Figure at 0x10c23ee50>"
      ]
     },
     "metadata": {},
     "output_type": "display_data"
    }
   ],
   "source": [
    "args = {\n",
    "    'n_actions': env.action_space.n,\n",
    "    'state_dim': env.observation_space.shape[0],\n",
    "    'gamma': .95,\n",
    "    'step_size_actor': .05,\n",
    "    'step_size_critic': .3,\n",
    "    'lambda_actor': 0.0,\n",
    "    'lambda_critic': 0.8\n",
    "}\n",
    "model = ActorCritic(args)\n",
    "rewards_train, _ = play_game(env, args, model, update=True, tot_episodes=200)\n",
    "rewards_test, avg_reward = play_game(env, args, model, update=False, tot_episodes=100)\n",
    "print \"Average reward using Actor Critic with Traces: \", avg_reward\n",
    "print \"Plotting reward...\"\n",
    "plt.plot(rewards_train + rewards_test)\n",
    "plt.xlabel(\"Episodes\")\n",
    "_ = plt.ylabel(\"Total Reward per episode\")"
   ]
  },
  {
   "cell_type": "markdown",
   "metadata": {},
   "source": [
    "### 5.ii) Storing GIF of the best Actor Critic model"
   ]
  },
  {
   "cell_type": "code",
   "execution_count": 7,
   "metadata": {},
   "outputs": [],
   "source": [
    "_ = play_game(env, args, model, update=False, tot_episodes=5, store_gif=True)"
   ]
  },
  {
   "cell_type": "markdown",
   "metadata": {},
   "source": [
    "### 5.ii) Displaying the GIF"
   ]
  },
  {
   "cell_type": "code",
   "execution_count": 8,
   "metadata": {},
   "outputs": [
    {
     "data": {
      "text/html": [
       "<img src=\"cartpole.gif\">"
      ],
      "text/plain": [
       "<IPython.core.display.HTML object>"
      ]
     },
     "execution_count": 8,
     "metadata": {},
     "output_type": "execute_result"
    }
   ],
   "source": [
    "from IPython.display import HTML\n",
    "HTML('<img src=\"cartpole.gif\">')"
   ]
  },
  {
   "cell_type": "markdown",
   "metadata": {
    "colab_type": "text",
    "id": "zrEq0dw2TV50"
   },
   "source": [
    "### 6.i) Effect of Gamma on Actor Critic\n",
    "#### (For this experiment, traces are removed on both actor and critic, $\\lambda_{\\text{actor}}=\\lambda_{\\text{critic}}=0.0$)"
   ]
  },
  {
   "cell_type": "code",
   "execution_count": 7,
   "metadata": {
    "colab": {
     "autoexec": {
      "startup": false,
      "wait_interval": 0
     },
     "base_uri": "https://localhost:8080/",
     "height": 272,
     "output_extras": [
      {
       "item_id": 1
      },
      {
       "item_id": 3
      },
      {
       "item_id": 12
      }
     ]
    },
    "colab_type": "code",
    "executionInfo": {
     "elapsed": 2066105,
     "status": "ok",
     "timestamp": 1522204928436,
     "user": {
      "displayName": "Rithesh Kumar",
      "photoUrl": "//lh5.googleusercontent.com/-VGc2wPhGPi4/AAAAAAAAAAI/AAAAAAAAB6I/vpltgbrdB3w/s50-c-k-no/photo.jpg",
      "userId": "103541296802299572143"
     },
     "user_tz": 240
    },
    "id": "xPjTQJiX5ZeS",
    "outputId": "5bb533d8-7cdc-40ea-a94b-1e6b510c2c91"
   },
   "outputs": [
    {
     "name": "stdout",
     "output_type": "stream",
     "text": [
      "Starting hyperparameter search...\n",
      "Performing a quick grid search for gamma =  0.9\n"
     ]
    },
    {
     "name": "stderr",
     "output_type": "stream",
     "text": [
      "/usr/local/lib/python2.7/dist-packages/ipykernel_launcher.py:40: RuntimeWarning: overflow encountered in add\n",
      "/usr/local/lib/python2.7/dist-packages/ipykernel_launcher.py:28: RuntimeWarning: invalid value encountered in double_scalars\n",
      "/usr/local/lib/python2.7/dist-packages/ipykernel_launcher.py:40: RuntimeWarning: invalid value encountered in add\n",
      "/usr/local/lib/python2.7/dist-packages/ipykernel_launcher.py:41: RuntimeWarning: invalid value encountered in multiply\n"
     ]
    },
    {
     "name": "stdout",
     "output_type": "stream",
     "text": [
      "Performing a quick grid search for gamma =  0.91\n",
      "Performing a quick grid search for gamma =  0.92\n",
      "Performing a quick grid search for gamma =  0.93\n",
      "Performing a quick grid search for gamma =  0.9400000000000001\n",
      "Performing a quick grid search for gamma =  0.9500000000000001\n",
      "Performing a quick grid search for gamma =  0.9600000000000001\n",
      "Performing a quick grid search for gamma =  0.9700000000000001\n",
      "Performing a quick grid search for gamma =  0.9800000000000001\n",
      "Performing a quick grid search for gamma =  0.9900000000000001\n"
     ]
    }
   ],
   "source": [
    "args = {\n",
    "    'n_actions': env.action_space.n,\n",
    "    'state_dim': env.observation_space.shape[0],\n",
    "    'lambda_actor': 0.0,\n",
    "    'lambda_critic': 0.0\n",
    "}\n",
    "print \"Starting hyperparameter search...\"\n",
    "configs = {}\n",
    "for gamma in np.arange(0.90, 1.00, 0.01):\n",
    "    configs[gamma] = []\n",
    "    print \"Performing a quick grid search for gamma = \", gamma\n",
    "    for step_size1 in np.arange(0.05, 1.05, .05):\n",
    "        for step_size2 in np.arange(0.05, 1.05, .05):\n",
    "            args['step_size_actor'] = step_size1\n",
    "            args['step_size_critic'] = step_size2\n",
    "            args['gamma'] = gamma\n",
    "            model = ActorCritic(args)\n",
    "            play_game(env, args, model, update=True, tot_episodes=100)\n",
    "            _, avg_reward = play_game(env, args, model, update=False, tot_episodes=10)\n",
    "            configs[gamma].append((step_size1, step_size2, avg_reward))"
   ]
  },
  {
   "cell_type": "markdown",
   "metadata": {
    "colab_type": "text",
    "id": "etBNEG1JhHdH"
   },
   "source": [
    "### 6.ii) Printing best hyperparameters and average reward for each value of $\\gamma$"
   ]
  },
  {
   "cell_type": "code",
   "execution_count": 10,
   "metadata": {
    "colab": {
     "autoexec": {
      "startup": false,
      "wait_interval": 0
     },
     "base_uri": "https://localhost:8080/",
     "height": 619,
     "output_extras": [
      {
       "item_id": 1
      },
      {
       "item_id": 2
      }
     ]
    },
    "colab_type": "code",
    "executionInfo": {
     "elapsed": 453,
     "status": "ok",
     "timestamp": 1522207642287,
     "user": {
      "displayName": "Rithesh Kumar",
      "photoUrl": "//lh5.googleusercontent.com/-VGc2wPhGPi4/AAAAAAAAAAI/AAAAAAAAB6I/vpltgbrdB3w/s50-c-k-no/photo.jpg",
      "userId": "103541296802299572143"
     },
     "user_tz": 240
    },
    "id": "qT49x9I2UCXP",
    "outputId": "f8988936-e3fa-4d7b-8340-9921cbd71768"
   },
   "outputs": [
    {
     "name": "stdout",
     "output_type": "stream",
     "text": [
      "Gamma =  0.9\n",
      "Best hyperparameters: step_size_actor = 0.5 step_size_critic = 0.8\n",
      "Gamma =  0.91\n",
      "Best hyperparameters: step_size_actor = 0.15 step_size_critic = 0.55\n",
      "Gamma =  0.92\n",
      "Best hyperparameters: step_size_actor = 0.1 step_size_critic = 0.5\n",
      "Gamma =  0.93\n",
      "Best hyperparameters: step_size_actor = 0.45 step_size_critic = 0.7\n",
      "Gamma =  0.9400000000000001\n",
      "Best hyperparameters: step_size_actor = 0.75 step_size_critic = 0.45\n",
      "Gamma =  0.9500000000000001\n",
      "Best hyperparameters: step_size_actor = 0.75 step_size_critic = 0.3\n",
      "Gamma =  0.9600000000000001\n",
      "Best hyperparameters: step_size_actor = 0.55 step_size_critic = 1.0\n",
      "Gamma =  0.9700000000000001\n",
      "Best hyperparameters: step_size_actor = 0.2 step_size_critic = 0.3\n",
      "Gamma =  0.9800000000000001\n",
      "Best hyperparameters: step_size_actor = 0.15 step_size_critic = 0.3\n",
      "Gamma =  0.9900000000000001\n",
      "Best hyperparameters: step_size_actor = 0.75 step_size_critic = 0.45\n"
     ]
    },
    {
     "data": {
      "image/png": "[encoded data removed]",
      "text/plain": [
       "<matplotlib.figure.Figure at 0x7f7f823e8150>"
      ]
     },
     "metadata": {
      "tags": []
     },
     "output_type": "display_data"
    }
   ],
   "source": [
    "best_rewards = []\n",
    "for key in np.arange(0.90, 1.00, 0.01):\n",
    "    print \"Gamma = \", key\n",
    "    sorted_configs = sorted(configs[key], key=lambda tup: tup[-1], reverse=True)[:5]\n",
    "    alpha_actor, alpha_critic, avg_reward = sorted_configs[0]\n",
    "    print \"Best hyperparameters: step_size_actor = {} step_size_critic = {}\".format(\n",
    "        alpha_actor, alpha_critic\n",
    "    )\n",
    "    best_rewards.append(sorted_configs[0][-1])\n",
    "\n",
    "plt.plot(np.arange(0.90, 1.00, 0.01), best_rewards)\n",
    "plt.xlabel(\"Gamma\")\n",
    "_ = plt.ylabel(\"Average reward per episode\")"
   ]
  },
  {
   "cell_type": "markdown",
   "metadata": {
    "colab_type": "text",
    "id": "RnJZAOPhitcm"
   },
   "source": [
    "### 7.i) Effect of Lambda on Critic Trace ($\\gamma = 0.95$ and $\\lambda_{\\text{actor}} = 0$ for these experiments)"
   ]
  },
  {
   "cell_type": "code",
   "execution_count": 24,
   "metadata": {
    "colab": {
     "autoexec": {
      "startup": false,
      "wait_interval": 0
     },
     "base_uri": "https://localhost:8080/",
     "height": 272,
     "output_extras": [
      {
       "item_id": 1
      },
      {
       "item_id": 3
      },
      {
       "item_id": 12
      }
     ]
    },
    "colab_type": "code",
    "executionInfo": {
     "elapsed": 707369,
     "status": "ok",
     "timestamp": 1522107608039,
     "user": {
      "displayName": "Rithesh Kumar",
      "photoUrl": "//lh5.googleusercontent.com/-VGc2wPhGPi4/AAAAAAAAAAI/AAAAAAAAB6I/vpltgbrdB3w/s50-c-k-no/photo.jpg",
      "userId": "103541296802299572143"
     },
     "user_tz": 240
    },
    "id": "8xPzMuDwhQHD",
    "outputId": "983a4166-4d42-43e3-8cdd-b06f3ff516fc"
   },
   "outputs": [
    {
     "name": "stdout",
     "output_type": "stream",
     "text": [
      "Starting hyperparameter search...\n",
      "Performing a quick grid search with lambda =  0.0\n"
     ]
    },
    {
     "name": "stderr",
     "output_type": "stream",
     "text": [
      "/usr/local/lib/python2.7/dist-packages/ipykernel_launcher.py:40: RuntimeWarning: overflow encountered in add\n",
      "/usr/local/lib/python2.7/dist-packages/ipykernel_launcher.py:28: RuntimeWarning: invalid value encountered in double_scalars\n",
      "/usr/local/lib/python2.7/dist-packages/ipykernel_launcher.py:40: RuntimeWarning: invalid value encountered in add\n",
      "/usr/local/lib/python2.7/dist-packages/ipykernel_launcher.py:41: RuntimeWarning: invalid value encountered in multiply\n"
     ]
    },
    {
     "name": "stdout",
     "output_type": "stream",
     "text": [
      "Performing a quick grid search with lambda =  0.1\n",
      "Performing a quick grid search with lambda =  0.2\n",
      "Performing a quick grid search with lambda =  0.30000000000000004\n",
      "Performing a quick grid search with lambda =  0.4\n",
      "Performing a quick grid search with lambda =  0.5\n",
      "Performing a quick grid search with lambda =  0.6000000000000001\n",
      "Performing a quick grid search with lambda =  0.7000000000000001\n",
      "Performing a quick grid search with lambda =  0.8\n",
      "Performing a quick grid search with lambda =  0.9\n"
     ]
    }
   ],
   "source": [
    "args = {\n",
    "    'n_actions': env.action_space.n,\n",
    "    'state_dim': env.observation_space.shape[0],\n",
    "    'lambda_actor': 0.0,\n",
    "    'gamma': .95\n",
    "}\n",
    "print \"Starting hyperparameter search...\"\n",
    "configs = {}\n",
    "for lamda in np.arange(0.0, 1.0, 0.1):\n",
    "    configs[lamda] = []\n",
    "    print \"Performing a quick grid search with lambda = \", lamda\n",
    "    for step_size1 in np.arange(0.05, 1.05, .05):\n",
    "        for step_size2 in np.arange(0.05, 1.05, .05):\n",
    "            args['step_size_actor'] = step_size1\n",
    "            args['step_size_critic'] = step_size2\n",
    "            args['lambda_critic'] = lamda\n",
    "            model = ActorCritic(args)\n",
    "            play_game(env, args, model, update=True, tot_episodes=50)\n",
    "            _, avg_reward = play_game(env, args, model, update=False, tot_episodes=10)\n",
    "            configs[lamda].append((step_size1, step_size2, avg_reward))"
   ]
  },
  {
   "cell_type": "markdown",
   "metadata": {
    "colab_type": "text",
    "id": "ocKQpMAErgSi"
   },
   "source": [
    "### 7.ii) Printing best hyperparameters and average reward for each value of $\\lambda_{\\text{critic}}$"
   ]
  },
  {
   "cell_type": "code",
   "execution_count": 26,
   "metadata": {
    "colab": {
     "autoexec": {
      "startup": false,
      "wait_interval": 0
     },
     "base_uri": "https://localhost:8080/",
     "height": 619,
     "output_extras": [
      {
       "item_id": 1
      },
      {
       "item_id": 2
      }
     ]
    },
    "colab_type": "code",
    "executionInfo": {
     "elapsed": 384,
     "status": "ok",
     "timestamp": 1522110015743,
     "user": {
      "displayName": "Rithesh Kumar",
      "photoUrl": "//lh5.googleusercontent.com/-VGc2wPhGPi4/AAAAAAAAAAI/AAAAAAAAB6I/vpltgbrdB3w/s50-c-k-no/photo.jpg",
      "userId": "103541296802299572143"
     },
     "user_tz": 240
    },
    "id": "hNEPHX3Fo-FS",
    "outputId": "def06e28-2ddd-4b49-a346-9135ccfb49a2"
   },
   "outputs": [
    {
     "name": "stdout",
     "output_type": "stream",
     "text": [
      "lambda =  0.0\n",
      "Best hyperparameters: step_size_actor = 0.9 step_size_critic = 0.6\n",
      "lambda =  0.1\n",
      "Best hyperparameters: step_size_actor = 0.25 step_size_critic = 0.6\n",
      "lambda =  0.2\n",
      "Best hyperparameters: step_size_actor = 0.25 step_size_critic = 0.9\n",
      "lambda =  0.30000000000000004\n",
      "Best hyperparameters: step_size_actor = 0.8 step_size_critic = 1.0\n",
      "lambda =  0.4\n",
      "Best hyperparameters: step_size_actor = 0.25 step_size_critic = 0.4\n",
      "lambda =  0.5\n",
      "Best hyperparameters: step_size_actor = 0.05 step_size_critic = 0.8\n",
      "lambda =  0.6000000000000001\n",
      "Best hyperparameters: step_size_actor = 0.35 step_size_critic = 0.55\n",
      "lambda =  0.7000000000000001\n",
      "Best hyperparameters: step_size_actor = 0.2 step_size_critic = 0.2\n",
      "lambda =  0.8\n",
      "Best hyperparameters: step_size_actor = 0.05 step_size_critic = 0.3\n",
      "lambda =  0.9\n",
      "Best hyperparameters: step_size_actor = 0.4 step_size_critic = 0.25\n"
     ]
    },
    {
     "data": {
      "image/png": "[encoded data removed]",
      "text/plain": [
       "<matplotlib.figure.Figure at 0x7f863f6aa690>"
      ]
     },
     "metadata": {
      "tags": []
     },
     "output_type": "display_data"
    }
   ],
   "source": [
    "best_rewards = []\n",
    "for key in np.arange(0.0, 1.0, 0.1):\n",
    "    print \"lambda = \", key\n",
    "    sorted_configs = sorted(configs[key], key=lambda tup: tup[-1], reverse=True)[:5]\n",
    "    alpha_actor, alpha_critic, avg_reward = sorted_configs[0]\n",
    "    print \"Best hyperparameters: step_size_actor = {} step_size_critic = {}\".format(\n",
    "        alpha_actor, alpha_critic\n",
    "    )\n",
    "    best_rewards.append(sorted_configs[0][-1])\n",
    "\n",
    "plt.plot(np.arange(0.0, 1.0, 0.1), best_rewards)\n",
    "plt.xlabel(\"Lambda Critic\")\n",
    "_ = plt.ylabel(\"Average reward per episode\")"
   ]
  },
  {
   "cell_type": "code",
   "execution_count": 0,
   "metadata": {
    "colab": {
     "autoexec": {
      "startup": false,
      "wait_interval": 0
     }
    },
    "colab_type": "code",
    "collapsed": true,
    "id": "z2y9SW9jr4Mw"
   },
   "outputs": [],
   "source": []
  }
 ],
 "metadata": {
  "colab": {
   "collapsed_sections": [],
   "default_view": {},
   "name": "ActorCritic.ipynb",
   "provenance": [],
   "version": "0.3.2",
   "views": {}
  },
  "hide_input": false,
  "kernelspec": {
   "display_name": "Python 2",
   "language": "python",
   "name": "python2"
  },
  "language_info": {
   "codemirror_mode": {
    "name": "ipython",
    "version": 2
   },
   "file_extension": ".py",
   "mimetype": "text/x-python",
   "name": "python",
   "nbconvert_exporter": "python",
   "pygments_lexer": "ipython2",
   "version": "2.7.13"
  }
 },
 "nbformat": 4,
 "nbformat_minor": 1
}
